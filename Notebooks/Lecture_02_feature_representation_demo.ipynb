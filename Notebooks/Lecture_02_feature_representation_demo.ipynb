{
 "cells": [
  {
   "cell_type": "markdown",
   "metadata": {},
   "source": [
    "# What defines features?\n",
    "\n",
    "# What is the difference between features and the input?\n",
    "\n",
    "# How do we compute them?\n",
    "\n",
    "# ~~How do we evaluate them?~~\n",
    "\n",
    "# How do we use them?"
   ]
  },
  {
   "cell_type": "code",
   "execution_count": null,
   "metadata": {},
   "outputs": [],
   "source": [
    "import pandas as pd\n",
    "import matplotlib.pyplot as plt\n",
    "import matplotlib.image as mpimg\n",
    "import numpy as np\n",
    "from sklearn.preprocessing import StandardScaler\n",
    "\n",
    "from PIL import Image\n"
   ]
  },
  {
   "cell_type": "code",
   "execution_count": null,
   "metadata": {},
   "outputs": [],
   "source": [
    "\n",
    "wine = pd.read_csv('https://archive.ics.uci.edu/'\n",
    "                      'ml/machine-learning-databases/wine/wine.data',\n",
    "                      header=None)\n",
    "\n",
    "wine.columns = ['Class label', 'Alcohol', 'Malic acid', 'Ash',\n",
    "                   'Alcalinity of ash', 'Magnesium', 'Total phenols',\n",
    "                   'Flavanoids', 'Nonflavanoid phenols', 'Proanthocyanins',\n",
    "                   'Color intensity', 'Hue', 'OD280/OD315 of diluted wines',\n",
    "                   'Proline']\n",
    "\n",
    "wine = wine.drop('Class label',axis=1) # get rid of a categorical label before mathematical operations\n",
    "wine"
   ]
  },
  {
   "cell_type": "code",
   "execution_count": null,
   "metadata": {
    "scrolled": false
   },
   "outputs": [],
   "source": [
    "wine.hist( figsize=(12,12) );"
   ]
  },
  {
   "cell_type": "code",
   "execution_count": null,
   "metadata": {},
   "outputs": [],
   "source": [
    "logwine = wine.apply( lambda x: np.log(x) )\n",
    "logwine.hist( figsize=(12,12) );"
   ]
  },
  {
   "cell_type": "code",
   "execution_count": null,
   "metadata": {},
   "outputs": [],
   "source": [
    "std_wine = pd.DataFrame( StandardScaler().fit_transform(logwine), columns=wine.columns )\n",
    "std_wine.hist( figsize=(12,12) );"
   ]
  },
  {
   "cell_type": "code",
   "execution_count": null,
   "metadata": {},
   "outputs": [],
   "source": [
    "im0 = np.array( [[0,0,0,0,0,200,200,200,200,200],\n",
    "       [0,0,0,0,0,200,200,200,200,200],\n",
    "       [0,0,0,0,0,200,200,200,200,200],\n",
    "       [0,0,0,0,0,200,200,200,200,200],\n",
    "       [0,0,0,0,0,200,200,200,200,200],\n",
    "       [0,0,0,0,0,200,200,200,200,200],\n",
    "       [0,0,0,0,0,200,200,200,200,200],\n",
    "       [0,0,0,0,0,200,200,200,200,200],\n",
    "       [0,0,0,0,0,200,200,200,200,200],\n",
    "       [0,0,0,0,0,200,200,200,200,200]\n",
    "      ])\n",
    "im0"
   ]
  },
  {
   "cell_type": "code",
   "execution_count": null,
   "metadata": {},
   "outputs": [],
   "source": [
    "plt.imshow(im0,cmap='gray',vmin=0,vmax=255);\n",
    "plt.axis('off');"
   ]
  },
  {
   "cell_type": "code",
   "execution_count": null,
   "metadata": {},
   "outputs": [],
   "source": [
    "\n",
    "b = [0,0,0]\n",
    "y = [255,255,0]\n",
    "\n",
    "im1 =  np.array(\n",
    "       [[b,b,b,b,y,y,b,b,b,b],\n",
    "        [b,b,y,y,y,y,y,y,b,b],\n",
    "        [b,y,y,y,y,y,y,y,y,b],\n",
    "        [b,y,y,b,y,y,b,y,y,b],\n",
    "        [y,y,y,y,y,y,y,y,y,y],\n",
    "        [y,y,b,y,y,y,y,b,y,y],\n",
    "        [b,y,y,b,b,b,b,y,y,b],\n",
    "        [b,y,y,y,y,y,y,y,y,b],\n",
    "        [b,b,y,y,y,y,y,y,b,b],\n",
    "        [b,b,b,b,y,y,b,b,b,b]])\n",
    "\n",
    "im1"
   ]
  },
  {
   "cell_type": "code",
   "execution_count": null,
   "metadata": {},
   "outputs": [],
   "source": [
    "plt.imshow(im1);\n",
    "plt.axis('off');"
   ]
  },
  {
   "cell_type": "code",
   "execution_count": null,
   "metadata": {},
   "outputs": [],
   "source": [
    "im1.flatten()"
   ]
  },
  {
   "cell_type": "code",
   "execution_count": null,
   "metadata": {},
   "outputs": [],
   "source": [
    "im2 = Image.open('data/party-popper_1f389.png')\n",
    "im2"
   ]
  },
  {
   "cell_type": "code",
   "execution_count": null,
   "metadata": {},
   "outputs": [],
   "source": [
    "im2a = np.array( im2.resize((10,10)).convert('RGB').getdata() ).flatten()\n",
    "im2a"
   ]
  },
  {
   "cell_type": "code",
   "execution_count": null,
   "metadata": {},
   "outputs": [],
   "source": [
    "pd.DataFrame( [im1.flatten(),im2a], index=['smiley','popper'] )"
   ]
  },
  {
   "cell_type": "code",
   "execution_count": null,
   "metadata": {},
   "outputs": [],
   "source": [
    "std_wine"
   ]
  },
  {
   "cell_type": "code",
   "execution_count": null,
   "metadata": {},
   "outputs": [],
   "source": []
  }
 ],
 "metadata": {
  "kernelspec": {
   "display_name": "Python 3",
   "language": "python",
   "name": "python3"
  },
  "language_info": {
   "codemirror_mode": {
    "name": "ipython",
    "version": 3
   },
   "file_extension": ".py",
   "mimetype": "text/x-python",
   "name": "python",
   "nbconvert_exporter": "python",
   "pygments_lexer": "ipython3",
   "version": "3.7.4"
  }
 },
 "nbformat": 4,
 "nbformat_minor": 4
}
